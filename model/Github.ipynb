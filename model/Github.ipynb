{
 "cells": [
  {
   "cell_type": "code",
   "execution_count": 1,
   "id": "56072ee7",
   "metadata": {
    "polyglot_notebook": {
     "kernelName": "csharp"
    },
    "vscode": {
     "languageId": "polyglot-notebook"
    }
   },
   "outputs": [],
   "source": [
    "using System;\n",
    "using System.Collections.Generic;\n",
    "using System.Net.Http;\n",
    "using System.Text.Json;\n",
    "using System.Threading.Tasks;\n",
    "using System.IO;"
   ]
  },
  {
   "cell_type": "code",
   "execution_count": 2,
   "metadata": {
    "polyglot_notebook": {
     "kernelName": "csharp"
    },
    "vscode": {
     "languageId": "polyglot-notebook"
    }
   },
   "outputs": [],
   "source": [
    "string parentPath = \"https://raw.githubusercontent.com/abhijeetunreal/3DB/refs/heads/main/model\";"
   ]
  },
  {
   "cell_type": "code",
   "execution_count": null,
   "id": "9f46edf6",
   "metadata": {
    "polyglot_notebook": {
     "kernelName": "csharp"
    },
    "vscode": {
     "languageId": "polyglot-notebook"
    }
   },
   "outputs": [],
   "source": [
    "static async Task<List<string>> ListFilesAsync(HttpClient http, string owner,string repo, string path)\n",
    "{\n",
    "    var result = new List<string>();\n",
    "    var apiUrl = $\"https://api.github.com/repos/{owner}/{repo}/contents/{path}\";\n",
    "    http.DefaultRequestHeaders.UserAgent.ParseAdd(\"CSharpApps\"); \n",
    "\n",
    "    var resp = await http.GetStringAsync(apiUrl);\n",
    "    using var doc = JsonDocument.Parse(resp);\n",
    "\n",
    "    foreach (var item in doc.RootElement.EnumerateArray())\n",
    "    {\n",
    "        var type = item.GetProperty(\"type\").GetString();\n",
    "        if (type == \"file\")\n",
    "        {\n",
    "            // raw URL:\n",
    "            var rawUrl = item.GetProperty(\"download_url\").GetString();\n",
    "            result.Add(rawUrl);\n",
    "        }\n",
    "        else if (type == \"dir\")\n",
    "        {\n",
    "            // recurse into subdirectory\n",
    "            var subPath = item.GetProperty(\"path\").GetString();\n",
    "            var subUrls = await ListFilesAsync(http, owner, repo, subPath);\n",
    "            result.AddRange(subUrls);\n",
    "        }\n",
    "    }\n",
    "\n",
    "    return result;\n",
    "}"
   ]
  },
  {
   "cell_type": "code",
   "execution_count": null,
   "id": "da0d3136",
   "metadata": {
    "polyglot_notebook": {
     "kernelName": "csharp"
    },
    "vscode": {
     "languageId": "polyglot-notebook"
    }
   },
   "outputs": [],
   "source": [
    "// Change these to your target repo/owner/path:\n",
    "const string Owner  = \"abhijeetunreal\";\n",
    "const string Repo   = \"3DB\";\n",
    "const string Path   = \"model\"; \n",
    "var http = new HttpClient();\n",
    "\n",
    "var urls = await ListFilesAsync(http, Owner, Repo, Path);\n",
    "foreach (var u in urls)\n",
    "    Console.WriteLine(u);"
   ]
  },
  {
   "cell_type": "code",
   "execution_count": null,
   "id": "3e4d4c57",
   "metadata": {
    "polyglot_notebook": {
     "kernelName": "csharp"
    },
    "vscode": {
     "languageId": "polyglot-notebook"
    }
   },
   "outputs": [],
   "source": [
    "public class DataRequestModel\n",
    "{\n",
    "    public bool IsFavourite { get; set; } = false;\n",
    "    public string Name { get; set; } = \"CFD Models Name\";\n",
    "    public string Thumbnail { get; set; } = \"https://codefrydev.in/images/IconCodefrydev.svg\";\n",
    "    public string Description { get; set; } = \"A Nerve Plant\";\n",
    "\n",
    "    public string Source { get; set; } =\n",
    "        \"https://raw.githubusercontent.com/abhijeetunreal/3DB/refs/heads/main/model/nerveplant/nerveplant.glb\";\n",
    "\n",
    "    public string Poster { get; set; } = \"poster.webp\";\n",
    "    public string AltText { get; set; } = \"3D Model\";\n",
    "    public string IosSrc { get; set; } = \"\";\n",
    "\n",
    "    public List<string> AnimationNames { get; set; } =[];\n",
    "\n",
    "    public List<string> EnvironmentImages { get; set; } =[\"https://modelviewer.dev/shared-assets/environments/spruit_sunrise_1k_HDR.jpg\"];\n",
    "\n",
    "    public List<string> SkyboxImages { get; set; } =[\"https://modelviewer.dev/shared-assets/environments/spruit_sunrise_1k_HDR.jpg\"];\n",
    "}"
   ]
  },
  {
   "cell_type": "code",
   "execution_count": null,
   "id": "4a23ab85",
   "metadata": {
    "polyglot_notebook": {
     "kernelName": "csharp"
    },
    "vscode": {
     "languageId": "polyglot-notebook"
    }
   },
   "outputs": [],
   "source": [
    "var listOfContent = new Dictionary<string,DataRequestModel>();\n",
    "foreach (var u in urls)\n",
    "{\n",
    "    var fileName = u.Split('/').Last();\n",
    "    var folderName = u.Split('/')[u.Split('/').Length - 2]; \n",
    "    listOfContent.TryAdd(folderName, new DataRequestModel());\n",
    "    listOfContent[folderName].Name = folderName;\n",
    "\n",
    "    if(fileName.Contains(\"poster\"))\n",
    "    {\n",
    "        listOfContent[folderName].Poster = fileName;\n",
    "    }\n",
    "    else if (fileName.Contains(\"ios\"))\n",
    "    {\n",
    "        listOfContent[folderName].IosSrc = fileName;\n",
    "    }\n",
    "    else if (fileName.Contains(\"alt\"))\n",
    "    {\n",
    "        listOfContent[folderName].AltText = fileName;\n",
    "    }\n",
    "    else if (fileName.Contains(\"favourite\"))\n",
    "    {\n",
    "        listOfContent[folderName].IsFavourite = true;\n",
    "    }\n",
    "    else if (fileName.Contains(\"description\"))\n",
    "    {\n",
    "        listOfContent[folderName].Description = fileName;\n",
    "    }\n",
    "    else if(fileName.Contains(\".glb\"))\n",
    "    {\n",
    "        listOfContent[folderName].Source = u;\n",
    "    }\n",
    "    else if (fileName.Contains(\"Environment\"))\n",
    "    {\n",
    "        listOfContent[folderName].EnvironmentImages.Add(u);\n",
    "    }\n",
    "    else if (fileName.Contains(\"Thumbnail\"))\n",
    "    {\n",
    "        listOfContent[folderName].Thumbnail = u;\n",
    "    }\n",
    "    else if (fileName.Contains(\"Skybox\"))\n",
    "    {\n",
    "        listOfContent[folderName].SkyboxImages.Add(u);\n",
    "    }\n",
    "    else if (fileName.Contains(\"Animation\"))\n",
    "    {\n",
    "        var animationsName = await new HttpClient().GetStringAsync(u);\n",
    "        var animationName = animationsName.Split('\\n').Select(x=>x.Trim()).Where(x=>x.Length>0).ToList();\n",
    "        listOfContent[folderName].AnimationNames= animationName;\n",
    "    }\n",
    "}\n",
    "listOfContent.Values.ToList()"
   ]
  },
  {
   "cell_type": "code",
   "execution_count": null,
   "id": "c4521dba",
   "metadata": {
    "polyglot_notebook": {
     "kernelName": "csharp"
    },
    "vscode": {
     "languageId": "polyglot-notebook"
    }
   },
   "outputs": [],
   "source": [
    "using System.Text.Json.Serialization;\n",
    "var text = JsonSerializer.Serialize(listOfContent.Values.ToList(), new JsonSerializerOptions\n",
    "{\n",
    "    WriteIndented = true\n",
    "});\n",
    "text"
   ]
  },
  {
   "cell_type": "code",
   "execution_count": null,
   "id": "264aa9a7",
   "metadata": {
    "polyglot_notebook": {
     "kernelName": "csharp"
    },
    "vscode": {
     "languageId": "polyglot-notebook"
    }
   },
   "outputs": [],
   "source": [
    "File.WriteAllText(\"index.json\", text);"
   ]
  }
 ],
 "metadata": {
  "kernelspec": {
   "display_name": ".NET (C#)",
   "language": "C#",
   "name": ".net-csharp"
  },
  "language_info": {
   "name": "python"
  },
  "polyglot_notebook": {
   "kernelInfo": {
    "defaultKernelName": "csharp",
    "items": [
     {
      "aliases": [],
      "name": "csharp"
     }
    ]
   }
  }
 },
 "nbformat": 4,
 "nbformat_minor": 5
}
