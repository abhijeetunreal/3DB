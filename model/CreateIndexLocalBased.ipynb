{
 "cells": [
  {
   "cell_type": "code",
   "execution_count": 37,
   "id": "2e9d1306",
   "metadata": {
    "polyglot_notebook": {
     "kernelName": "csharp"
    },
    "vscode": {
     "languageId": "polyglot-notebook"
    }
   },
   "outputs": [],
   "source": [
    "using System;\n",
    "using System.Collections.Generic;\n",
    "using System.Net.Http;\n",
    "using System.Text.Json;\n",
    "using System.Threading.Tasks;\n",
    "using System.IO;\n",
    "using System.Text.Json.Serialization;"
   ]
  },
  {
   "cell_type": "code",
   "execution_count": 38,
   "metadata": {
    "polyglot_notebook": {
     "kernelName": "csharp"
    },
    "vscode": {
     "languageId": "polyglot-notebook"
    }
   },
   "outputs": [],
   "source": [
    "//https://polyhaven.com/"
   ]
  },
  {
   "cell_type": "code",
   "execution_count": 39,
   "id": "2ce7ffe6",
   "metadata": {
    "polyglot_notebook": {
     "kernelName": "csharp"
    },
    "vscode": {
     "languageId": "polyglot-notebook"
    }
   },
   "outputs": [],
   "source": [
    "string parentPath = \"https://raw.githubusercontent.com/abhijeetunreal/3DB/refs/heads/main/model\";"
   ]
  },
  {
   "cell_type": "code",
   "execution_count": 40,
   "id": "e70b5ff5",
   "metadata": {
    "polyglot_notebook": {
     "kernelName": "csharp"
    },
    "vscode": {
     "languageId": "polyglot-notebook"
    }
   },
   "outputs": [],
   "source": [
    "public class DataRequestModel\n",
    "{\n",
    "    public bool IsFavourite { get; set; } = false;\n",
    "    public string Name { get; set; } = \"CFD Models\";\n",
    "    public string Thumbnail { get; set; } = \"https://codefrydev.in/images/IconCodefrydev.svg\";\n",
    "    public string Description { get; set; } = \"A Nerve Plant\";\n",
    "\n",
    "    public string Source { get; set; } = \"https://raw.githubusercontent.com/abhijeetunreal/3DB/refs/heads/main/model/nerveplant/nerveplant.glb\";\n",
    "\n",
    "    public string Poster { get; set; } = \"poster.webp\";\n",
    "    public string AltText { get; set; } = \"3D Model\";\n",
    "    public string IosSrc { get; set; } = \"\";\n",
    "\n",
    "    public List<string> AnimationNames { get; set; } =[];\n",
    "\n",
    "    public List<string> EnvironmentImages { get; set; } =[\"https://modelviewer.dev/shared-assets/environments/spruit_sunrise_1k_HDR.jpg\"];\n",
    "\n",
    "    public List<string> SkyboxImages { get; set; } =[\"https://modelviewer.dev/shared-assets/environments/spruit_sunrise_1k_HDR.jpg\"];\n",
    "}"
   ]
  },
  {
   "cell_type": "code",
   "execution_count": 41,
   "id": "c663294d",
   "metadata": {
    "polyglot_notebook": {
     "kernelName": "csharp"
    },
    "vscode": {
     "languageId": "polyglot-notebook"
    }
   },
   "outputs": [
    {
     "data": {
      "text/plain": [
       "/Volumes/External/SourceCode/3DB/model"
      ]
     },
     "metadata": {},
     "output_type": "display_data"
    }
   ],
   "source": [
    "var directory = Directory.GetCurrentDirectory();\n",
    "directory"
   ]
  },
  {
   "cell_type": "code",
   "execution_count": 42,
   "id": "166ed2e4",
   "metadata": {
    "polyglot_notebook": {
     "kernelName": "csharp"
    },
    "vscode": {
     "languageId": "polyglot-notebook"
    }
   },
   "outputs": [
    {
     "data": {
      "text/html": [
       "<div class=\"dni-plaintext\"><pre>[ /Volumes/External/SourceCode/3DB/model/Camera, /Volumes/External/SourceCode/3DB/model/ZombieMushroom, /Volumes/External/SourceCode/3DB/model/PortalGunFPS, /Volumes/External/SourceCode/3DB/model/Torch, /Volumes/External/SourceCode/3DB/model/3dripple, /Volumes/External/SourceCode/3DB/model/nerveplant, /Volumes/External/SourceCode/3DB/model/LinkConceptOne, /Volumes/External/SourceCode/3DB/model/tenticles, /Volumes/External/SourceCode/3DB/model/sphericalmaze, /Volumes/External/SourceCode/3DB/model/SpiderJhula, /Volumes/External/SourceCode/3DB/model/BostonDynamics, /Volumes/External/SourceCode/3DB/model/LHCcollider, /Volumes/External/SourceCode/3DB/model/OwlKid, /Volumes/External/SourceCode/3DB/model/ArtificialKidney, /Volumes/External/SourceCode/3DB/model/PortalGun, /Volumes/External/SourceCode/3DB/model/GlassHorrorbox, /Volumes/External/SourceCode/3DB/model/Package, /Volumes/External/SourceCode/3DB/model/ConceptUnfinished, /Volumes/External/SourceCode/3DB/model/RobotConcept ]</pre></div><style>\r\n",
       ".dni-code-hint {\r\n",
       "    font-style: italic;\r\n",
       "    overflow: hidden;\r\n",
       "    white-space: nowrap;\r\n",
       "}\r\n",
       ".dni-treeview {\r\n",
       "    white-space: nowrap;\r\n",
       "}\r\n",
       ".dni-treeview td {\r\n",
       "    vertical-align: top;\r\n",
       "    text-align: start;\r\n",
       "}\r\n",
       "details.dni-treeview {\r\n",
       "    padding-left: 1em;\r\n",
       "}\r\n",
       "table td {\r\n",
       "    text-align: start;\r\n",
       "}\r\n",
       "table tr { \r\n",
       "    vertical-align: top; \r\n",
       "    margin: 0em 0px;\r\n",
       "}\r\n",
       "table tr td pre \r\n",
       "{ \r\n",
       "    vertical-align: top !important; \r\n",
       "    margin: 0em 0px !important;\r\n",
       "} \r\n",
       "table th {\r\n",
       "    text-align: start;\r\n",
       "}\r\n",
       "</style>"
      ]
     },
     "metadata": {},
     "output_type": "display_data"
    }
   ],
   "source": [
    "var allChildDirectory = Directory.GetDirectories(directory);\n",
    "allChildDirectory"
   ]
  },
  {
   "cell_type": "code",
   "execution_count": 43,
   "id": "e4649333",
   "metadata": {
    "polyglot_notebook": {
     "kernelName": "csharp"
    },
    "vscode": {
     "languageId": "polyglot-notebook"
    }
   },
   "outputs": [
    {
     "data": {
      "text/html": [
       "<table><thead><tr><th><i>index</i></th><th>value</th></tr></thead><tbody><tr><td>0</td><td><details class=\"dni-treeview\"><summary><span class=\"dni-code-hint\"><code>Submission#40+DataRequestModel</code></span></summary><div><table><thead><tr></tr></thead><tbody><tr><td>IsFavourite</td><td><div class=\"dni-plaintext\"><pre>True</pre></div></td></tr><tr><td>Name</td><td><div class=\"dni-plaintext\"><pre>sphericalmaze</pre></div></td></tr><tr><td>Thumbnail</td><td><div class=\"dni-plaintext\"><pre>https://raw.githubusercontent.com/abhijeetunreal/3DB/refs/heads/main/model/sphericalmaze/Thumbnail_1.png</pre></div></td></tr><tr><td>Description</td><td><div class=\"dni-plaintext\"><pre>This is just a Spherical Maze File Description</pre></div></td></tr><tr><td>Source</td><td><div class=\"dni-plaintext\"><pre>https://raw.githubusercontent.com/abhijeetunreal/3DB/refs/heads/main/model/sphericalmaze/model.glb</pre></div></td></tr><tr><td>Poster</td><td><div class=\"dni-plaintext\"><pre>https://raw.githubusercontent.com/abhijeetunreal/3DB/refs/heads/main/model/sphericalmaze/poster.jpg</pre></div></td></tr><tr><td>AltText</td><td><div class=\"dni-plaintext\"><pre>Spherical Maze</pre></div></td></tr><tr><td>IosSrc</td><td><div class=\"dni-plaintext\"><pre></pre></div></td></tr><tr><td>AnimationNames</td><td><div class=\"dni-plaintext\"><pre>[ idle, running, playing ]</pre></div></td></tr><tr><td>EnvironmentImages</td><td><div class=\"dni-plaintext\"><pre>[ https://modelviewer.dev/shared-assets/environments/spruit_sunrise_1k_HDR.jpg, https://raw.githubusercontent.com/abhijeetunreal/3DB/refs/heads/main/model/sphericalmaze/Enviroment_1.hdr ]</pre></div></td></tr><tr><td>SkyboxImages</td><td><div class=\"dni-plaintext\"><pre>[ https://modelviewer.dev/shared-assets/environments/spruit_sunrise_1k_HDR.jpg, https://raw.githubusercontent.com/abhijeetunreal/3DB/refs/heads/main/model/sphericalmaze/Skybox_1.hdr ]</pre></div></td></tr></tbody></table></div></details></td></tr></tbody></table><style>\r\n",
       ".dni-code-hint {\r\n",
       "    font-style: italic;\r\n",
       "    overflow: hidden;\r\n",
       "    white-space: nowrap;\r\n",
       "}\r\n",
       ".dni-treeview {\r\n",
       "    white-space: nowrap;\r\n",
       "}\r\n",
       ".dni-treeview td {\r\n",
       "    vertical-align: top;\r\n",
       "    text-align: start;\r\n",
       "}\r\n",
       "details.dni-treeview {\r\n",
       "    padding-left: 1em;\r\n",
       "}\r\n",
       "table td {\r\n",
       "    text-align: start;\r\n",
       "}\r\n",
       "table tr { \r\n",
       "    vertical-align: top; \r\n",
       "    margin: 0em 0px;\r\n",
       "}\r\n",
       "table tr td pre \r\n",
       "{ \r\n",
       "    vertical-align: top !important; \r\n",
       "    margin: 0em 0px !important;\r\n",
       "} \r\n",
       "table th {\r\n",
       "    text-align: start;\r\n",
       "}\r\n",
       "</style>"
      ]
     },
     "metadata": {},
     "output_type": "display_data"
    }
   ],
   "source": [
    "var dataRequestModel = new List<DataRequestModel>();\n",
    "foreach (var childDir in allChildDirectory)\n",
    "{\n",
    "    var childDirName = childDir.Split(Path.DirectorySeparatorChar).Last();\n",
    "    var childDirPath = Path.Combine(directory, childDirName);\n",
    "    var allFiles = Directory.GetFiles(childDirPath);\n",
    "    \n",
    "    var glbFile = allFiles.Where(x => x.EndsWith(\".glb\")).FirstOrDefault(); \n",
    "    var dataRequestModelObj = new DataRequestModel();\n",
    "    dataRequestModelObj.Name = childDirName;\n",
    "    foreach (var file in allFiles)\n",
    "    {\n",
    "        var fileName = file.Split(Path.DirectorySeparatorChar).Last();\n",
    "        if (fileName.Contains(\"Thumbnail\", StringComparison.OrdinalIgnoreCase))\n",
    "        {\n",
    "            dataRequestModelObj.Thumbnail = $\"{parentPath}/{childDirName}/{fileName}\";\n",
    "        }\n",
    "        else if (fileName.Contains(\"poster\", StringComparison.OrdinalIgnoreCase))\n",
    "        {\n",
    "            dataRequestModelObj.Poster = $\"{parentPath}/{childDirName}/{fileName}\";\n",
    "        }\n",
    "        else if (fileName.Contains(\"ios\", StringComparison.OrdinalIgnoreCase))\n",
    "        {\n",
    "            dataRequestModelObj.IosSrc = $\"{parentPath}/{childDirName}/{fileName}\";\n",
    "        }\n",
    "        else if (fileName.Contains(\"Enviroment\", StringComparison.OrdinalIgnoreCase))\n",
    "        {\n",
    "            dataRequestModelObj.EnvironmentImages.Add($\"{parentPath}/{childDirName}/{fileName}\");\n",
    "        }\n",
    "        else if (fileName.Contains(\"skybox\", StringComparison.OrdinalIgnoreCase))\n",
    "        {\n",
    "            dataRequestModelObj.SkyboxImages.Add($\"{parentPath}/{childDirName}/{fileName}\");\n",
    "        }\n",
    "        else if (fileName.Contains(\"description\", StringComparison.OrdinalIgnoreCase))\n",
    "        {\n",
    "            dataRequestModelObj.Description = File.ReadAllText(file);\n",
    "        }\n",
    "        else if (fileName.Contains(\"animation\", StringComparison.OrdinalIgnoreCase))\n",
    "        {\n",
    "            dataRequestModelObj.AnimationNames= File.ReadAllLines(file).Where(x=>x.Trim().Length>0).ToList();\n",
    "        }\n",
    "        else if(fileName.Contains(\"alt\", StringComparison.OrdinalIgnoreCase))\n",
    "        {\n",
    "            dataRequestModelObj.AltText = File.ReadAllText(file);\n",
    "        }\n",
    "        else if (fileName.Contains(\"model\", StringComparison.OrdinalIgnoreCase))\n",
    "        {\n",
    "            dataRequestModelObj.Source = $\"{parentPath}/{childDirName}/{fileName}\";\n",
    "        }\n",
    "        else if (fileName.Contains(\"favourite\", StringComparison.OrdinalIgnoreCase))\n",
    "        {\n",
    "            dataRequestModelObj.IsFavourite = true;\n",
    "        }\n",
    "    }\n",
    "    dataRequestModel.Add(dataRequestModelObj);\n",
    "}\n",
    "dataRequestModel.Where(x=>x.IsFavourite)"
   ]
  },
  {
   "cell_type": "code",
   "execution_count": 44,
   "metadata": {
    "polyglot_notebook": {
     "kernelName": "csharp"
    },
    "vscode": {
     "languageId": "polyglot-notebook"
    }
   },
   "outputs": [
    {
     "data": {
      "text/plain": [
       "[\n",
       "  {\n",
       "    \"IsFavourite\": false,\n",
       "    \"Name\": \"Camera\",\n",
       "    \"Thumbnail\": \"https://codefrydev.in/images/IconCodefrydev.svg\",\n",
       "    \"Description\": \"A Nerve Plant\",\n",
       "    \"Source\": \"https://raw.githubusercontent.com/abhijeetunreal/3DB/refs/heads/main/model/Camera/model.glb\",\n",
       "    \"Poster\": \"poster.webp\",\n",
       "    \"AltText\": \"3D Model\",\n",
       "    \"IosSrc\": \"\",\n",
       "    \"AnimationNames\": [],\n",
       "    \"EnvironmentImages\": [\n",
       "      \"https://modelviewer.dev/shared-assets/environments/spruit_sunrise_1k_HDR.jpg\"\n",
       "    ],\n",
       "    \"SkyboxImages\": [\n",
       "      \"https://modelviewer.dev/shared-assets/environments/spruit_sunrise_1k_HDR.jpg\"\n",
       "    ]\n",
       "  },\n",
       "  {\n",
       "    \"IsFavourite\": false,\n",
       "    \"Name\": \"ZombieMushroom\",\n",
       "    \"Thumbnail\": \"https://codefrydev.in/images/IconCodefrydev.svg\",\n",
       "    \"Description\": \"A Nerve Plant\",\n",
       "    \"Source\": \"https://raw.githubusercontent.com/abhijeetunreal/3DB/refs/heads/main/model/ZombieMushroom/model.glb\",\n",
       "    \"Poster\": \"poster.webp\",\n",
       "    \"AltText\": \"3D Model\",\n",
       "    \"IosSrc\": \"\",\n",
       "    \"AnimationNames\": [],\n",
       "    \"EnvironmentImages\": [\n",
       "      \"https://modelviewer.dev/shared-assets/environments/spruit_sunrise_1k_HDR.jpg\"\n",
       "    ],\n",
       "    \"SkyboxImages\": [\n",
       "      \"https://modelviewer.dev/shared-assets/environments/spruit_sunrise_1k_HDR.jpg\"\n",
       "    ]\n",
       "  },\n",
       "  {\n",
       "    \"IsFavourite\": false,\n",
       "    \"Name\": \"PortalGunFPS\",\n",
       "    \"Thumbnail\": \"https://codefrydev.in/images/IconCodefrydev.svg\",\n",
       "    \"Description\": \"A Nerve Plant\",\n",
       "    \"Source\": \"https://raw.githubusercontent.com/abhijeetunreal/3DB/refs/heads/main/model/PortalGunFPS/model.glb\",\n",
       "    \"Poster\": \"poster.webp\",\n",
       "    \"AltText\": \"3D Model\",\n",
       "    \"IosSrc\": \"\",\n",
       "    \"AnimationNames\": [],\n",
       "    \"EnvironmentImages\": [\n",
       "      \"https://modelviewer.dev/shared-assets/environments/spruit_sunrise_1k_HDR.jpg\"\n",
       "    ],\n",
       "    \"SkyboxImages\": [\n",
       "      \"https://modelviewer.dev/shared-assets/environments/spruit_sunrise_1k_HDR.jpg\"\n",
       "    ]\n",
       "  },\n",
       "  {\n",
       "    \"IsFavourite\": false,\n",
       "    \"Name\": \"Torch\",\n",
       "    \"Thumbnail\": \"https://codefrydev.in/images/IconCodefrydev.svg\",\n",
       "    \"Description\": \"A Nerve Plant\",\n",
       "    \"Source\": \"https://raw.githubusercontent.com/abhijeetunreal/3DB/refs/heads/main/model/Torch/model.glb\",\n",
       "    \"Poster\": \"poster.webp\",\n",
       "    \"AltText\": \"3D Model\",\n",
       "    \"IosSrc\": \"\",\n",
       "    \"AnimationNames\": [],\n",
       "    \"EnvironmentImages\": [\n",
       "      \"https://modelviewer.dev/shared-assets/environments/spruit_sunrise_1k_HDR.jpg\"\n",
       "    ],\n",
       "    \"SkyboxImages\": [\n",
       "      \"https://modelviewer.dev/shared-assets/environments/spruit_sunrise_1k_HDR.jpg\"\n",
       "    ]\n",
       "  },\n",
       "  {\n",
       "    \"IsFavourite\": false,\n",
       "    \"Name\": \"3dripple\",\n",
       "    \"Thumbnail\": \"https://raw.githubusercontent.com/abhijeetunreal/3DB/refs/heads/main/model/3dripple/thumbnail.jpeg\",\n",
       "    \"Description\": \"A Nerve Plant\",\n",
       "    \"Source\": \"https://raw.githubusercontent.com/abhijeetunreal/3DB/refs/heads/main/model/3dripple/model.glb\",\n",
       "    \"Poster\": \"poster.webp\",\n",
       "    \"AltText\": \"3D Model\",\n",
       "    \"IosSrc\": \"\",\n",
       "    \"AnimationNames\": [],\n",
       "    \"EnvironmentImages\": [\n",
       "      \"https://modelviewer.dev/shared-assets/environments/spruit_sunrise_1k_HDR.jpg\"\n",
       "    ],\n",
       "    \"SkyboxImages\": [\n",
       "      \"https://modelviewer.dev/shared-assets/environments/spruit_sunrise_1k_HDR.jpg\"\n",
       "    ]\n",
       "  },\n",
       "  {\n",
       "    \"IsFavourite\": false,\n",
       "    \"Name\": \"nerveplant\",\n",
       "    \"Thumbnail\": \"https://codefrydev.in/images/IconCodefrydev.svg\",\n",
       "    \"Description\": \"A Nerve Plant\",\n",
       "    \"Source\": \"https://raw.githubusercontent.com/abhijeetunreal/3DB/refs/heads/main/model/nerveplant/model.glb\",\n",
       "    \"Poster\": \"poster.webp\",\n",
       "    \"AltText\": \"3D Model\",\n",
       "    \"IosSrc\": \"\",\n",
       "    \"AnimationNames\": [],\n",
       "    \"EnvironmentImages\": [\n",
       "      \"https://modelviewer.dev/shared-assets/environments/spruit_sunrise_1k_HDR.jpg\"\n",
       "    ],\n",
       "    \"SkyboxImages\": [\n",
       "      \"https://modelviewer.dev/shared-assets/environments/spruit_sunrise_1k_HDR.jpg\"\n",
       "    ]\n",
       "  },\n",
       "  {\n",
       "    \"IsFavourite\": false,\n",
       "    \"Name\": \"LinkConceptOne\",\n",
       "    \"Thumbnail\": \"https://codefrydev.in/images/IconCodefrydev.svg\",\n",
       "    \"Description\": \"A Nerve Plant\",\n",
       "    \"Source\": \"https://raw.githubusercontent.com/abhijeetunreal/3DB/refs/heads/main/model/LinkConceptOne/model.glb\",\n",
       "    \"Poster\": \"poster.webp\",\n",
       "    \"AltText\": \"3D Model\",\n",
       "    \"IosSrc\": \"\",\n",
       "    \"AnimationNames\": [],\n",
       "    \"EnvironmentImages\": [\n",
       "      \"https://modelviewer.dev/shared-assets/environments/spruit_sunrise_1k_HDR.jpg\"\n",
       "    ],\n",
       "    \"SkyboxImages\": [\n",
       "      \"https://modelviewer.dev/shared-assets/environments/spruit_sunrise_1k_HDR.jpg\"\n",
       "    ]\n",
       "  },\n",
       "  {\n",
       "    \"IsFavourite\": false,\n",
       "    \"Name\": \"tenticles\",\n",
       "    \"Thumbnail\": \"https://codefrydev.in/images/IconCodefrydev.svg\",\n",
       "    \"Description\": \"A Nerve Plant\",\n",
       "    \"Source\": \"https://raw.githubusercontent.com/abhijeetunreal/3DB/refs/heads/main/model/tenticles/model.glb\",\n",
       "    \"Poster\": \"poster.webp\",\n",
       "    \"AltText\": \"3D Model\",\n",
       "    \"IosSrc\": \"\",\n",
       "    \"AnimationNames\": [],\n",
       "    \"EnvironmentImages\": [\n",
       "      \"https://modelviewer.dev/shared-assets/environments/spruit_sunrise_1k_HDR.jpg\"\n",
       "    ],\n",
       "    \"SkyboxImages\": [\n",
       "      \"https://modelviewer.dev/shared-assets/environments/spruit_sunrise_1k_HDR.jpg\"\n",
       "    ]\n",
       "  },\n",
       "  {\n",
       "    \"IsFavourite\": true,\n",
       "    \"Name\": \"sphericalmaze\",\n",
       "    \"Thumbnail\": \"https://raw.githubusercontent.com/abhijeetunreal/3DB/refs/heads/main/model/sphericalmaze/Thumbnail_1.png\",\n",
       "    \"Description\": \"This is just a Spherical Maze File Description\",\n",
       "    \"Source\": \"https://raw.githubusercontent.com/abhijeetunreal/3DB/refs/heads/main/model/sphericalmaze/model.glb\",\n",
       "    \"Poster\": \"https://raw.githubusercontent.com/abhijeetunreal/3DB/refs/heads/main/model/sphericalmaze/poster.jpg\",\n",
       "    \"AltText\": \"Spherical Maze\",\n",
       "    \"IosSrc\": \"\",\n",
       "    \"AnimationNames\": [\n",
       "      \"idle\",\n",
       "      \"running\",\n",
       "      \"playing\"\n",
       "    ],\n",
       "    \"EnvironmentImages\": [\n",
       "      \"https://modelviewer.dev/shared-assets/environments/spruit_sunrise_1k_HDR.jpg\",\n",
       "      \"https://raw.githubusercontent.com/abhijeetunreal/3DB/refs/heads/main/model/sphericalmaze/Enviroment_1.hdr\"\n",
       "    ],\n",
       "    \"SkyboxImages\": [\n",
       "      \"https://modelviewer.dev/shared-assets/environments/spruit_sunrise_1k_HDR.jpg\",\n",
       "      \"https://raw.githubusercontent.com/abhijeetunreal/3DB/refs/heads/main/model/sphericalmaze/Skybox_1.hdr\"\n",
       "    ]\n",
       "  },\n",
       "  {\n",
       "    \"IsFavourite\": false,\n",
       "    \"Name\": \"SpiderJhula\",\n",
       "    \"Thumbnail\": \"https://codefrydev.in/images/IconCodefrydev.svg\",\n",
       "    \"Description\": \"A Nerve Plant\",\n",
       "    \"Source\": \"https://raw.githubusercontent.com/abhijeetunreal/3DB/refs/heads/main/model/SpiderJhula/model.glb\",\n",
       "    \"Poster\": \"poster.webp\",\n",
       "    \"AltText\": \"3D Model\",\n",
       "    \"IosSrc\": \"\",\n",
       "    \"AnimationNames\": [],\n",
       "    \"EnvironmentImages\": [\n",
       "      \"https://modelviewer.dev/shared-assets/environments/spruit_sunrise_1k_HDR.jpg\"\n",
       "    ],\n",
       "    \"SkyboxImages\": [\n",
       "      \"https://modelviewer.dev/shared-assets/environments/spruit_sunrise_1k_HDR.jpg\"\n",
       "    ]\n",
       "  },\n",
       "  {\n",
       "    \"IsFavourite\": false,\n",
       "    \"Name\": \"BostonDynamics\",\n",
       "    \"Thumbnail\": \"https://codefrydev.in/images/IconCodefrydev.svg\",\n",
       "    \"Description\": \"A Nerve Plant\",\n",
       "    \"Source\": \"https://raw.githubusercontent.com/abhijeetunreal/3DB/refs/heads/main/model/BostonDynamics/model.glb\",\n",
       "    \"Poster\": \"poster.webp\",\n",
       "    \"AltText\": \"3D Model\",\n",
       "    \"IosSrc\": \"\",\n",
       "    \"AnimationNames\": [],\n",
       "    \"EnvironmentImages\": [\n",
       "      \"https://modelviewer.dev/shared-assets/environments/spruit_sunrise_1k_HDR.jpg\"\n",
       "    ],\n",
       "    \"SkyboxImages\": [\n",
       "      \"https://modelviewer.dev/shared-assets/environments/spruit_sunrise_1k_HDR.jpg\"\n",
       "    ]\n",
       "  },\n",
       "  {\n",
       "    \"IsFavourite\": false,\n",
       "    \"Name\": \"LHCcollider\",\n",
       "    \"Thumbnail\": \"https://codefrydev.in/images/IconCodefrydev.svg\",\n",
       "    \"Description\": \"A Nerve Plant\",\n",
       "    \"Source\": \"https://raw.githubusercontent.com/abhijeetunreal/3DB/refs/heads/main/model/LHCcollider/model.glb\",\n",
       "    \"Poster\": \"poster.webp\",\n",
       "    \"AltText\": \"3D Model\",\n",
       "    \"IosSrc\": \"\",\n",
       "    \"AnimationNames\": [],\n",
       "    \"EnvironmentImages\": [\n",
       "      \"https://modelviewer.dev/shared-assets/environments/spruit_sunrise_1k_HDR.jpg\"\n",
       "    ],\n",
       "    \"SkyboxImages\": [\n",
       "      \"https://modelviewer.dev/shared-assets/environments/spruit_sunrise_1k_HDR.jpg\"\n",
       "    ]\n",
       "  },\n",
       "  {\n",
       "    \"IsFavourite\": false,\n",
       "    \"Name\": \"OwlKid\",\n",
       "    \"Thumbnail\": \"https://codefrydev.in/images/IconCodefrydev.svg\",\n",
       "    \"Description\": \"A Nerve Plant\",\n",
       "    \"Source\": \"https://raw.githubusercontent.com/abhijeetunreal/3DB/refs/heads/main/model/OwlKid/model.glb\",\n",
       "    \"Poster\": \"poster.webp\",\n",
       "    \"AltText\": \"3D Model\",\n",
       "    \"IosSrc\": \"\",\n",
       "    \"AnimationNames\": [],\n",
       "    \"EnvironmentImages\": [\n",
       "      \"https://modelviewer.dev/shared-assets/environments/spruit_sunrise_1k_HDR.jpg\"\n",
       "    ],\n",
       "    \"SkyboxImages\": [\n",
       "      \"https://modelviewer.dev/shared-assets/environments/spruit_sunrise_1k_HDR.jpg\"\n",
       "    ]\n",
       "  },\n",
       "  {\n",
       "    \"IsFavourite\": false,\n",
       "    \"Name\": \"ArtificialKidney\",\n",
       "    \"Thumbnail\": \"https://codefrydev.in/images/IconCodefrydev.svg\",\n",
       "    \"Description\": \"A Nerve Plant\",\n",
       "    \"Source\": \"https://raw.githubusercontent.com/abhijeetunreal/3DB/refs/heads/main/model/ArtificialKidney/model.glb\",\n",
       "    \"Poster\": \"poster.webp\",\n",
       "    \"AltText\": \"3D Model\",\n",
       "    \"IosSrc\": \"\",\n",
       "    \"AnimationNames\": [],\n",
       "    \"EnvironmentImages\": [\n",
       "      \"https://modelviewer.dev/shared-assets/environments/spruit_sunrise_1k_HDR.jpg\"\n",
       "    ],\n",
       "    \"SkyboxImages\": [\n",
       "      \"https://modelviewer.dev/shared-assets/environments/spruit_sunrise_1k_HDR.jpg\"\n",
       "    ]\n",
       "  },\n",
       "  {\n",
       "    \"IsFavourite\": false,\n",
       "    \"Name\": \"PortalGun\",\n",
       "    \"Thumbnail\": \"https://codefrydev.in/images/IconCodefrydev.svg\",\n",
       "    \"Description\": \"A Nerve Plant\",\n",
       "    \"Source\": \"https://raw.githubusercontent.com/abhijeetunreal/3DB/refs/heads/main/model/PortalGun/model.glb\",\n",
       "    \"Poster\": \"poster.webp\",\n",
       "    \"AltText\": \"3D Model\",\n",
       "    \"IosSrc\": \"\",\n",
       "    \"AnimationNames\": [],\n",
       "    \"EnvironmentImages\": [\n",
       "      \"https://modelviewer.dev/shared-assets/environments/spruit_sunrise_1k_HDR.jpg\"\n",
       "    ],\n",
       "    \"SkyboxImages\": [\n",
       "      \"https://modelviewer.dev/shared-assets/environments/spruit_sunrise_1k_HDR.jpg\"\n",
       "    ]\n",
       "  },\n",
       "  {\n",
       "    \"IsFavourite\": false,\n",
       "    \"Name\": \"GlassHorrorbox\",\n",
       "    \"Thumbnail\": \"https://codefrydev.in/images/IconCodefrydev.svg\",\n",
       "    \"Description\": \"A Nerve Plant\",\n",
       "    \"Source\": \"https://raw.githubusercontent.com/abhijeetunreal/3DB/refs/heads/main/model/GlassHorrorbox/model.glb\",\n",
       "    \"Poster\": \"poster.webp\",\n",
       "    \"AltText\": \"3D Model\",\n",
       "    \"IosSrc\": \"\",\n",
       "    \"AnimationNames\": [],\n",
       "    \"EnvironmentImages\": [\n",
       "      \"https://modelviewer.dev/shared-assets/environments/spruit_sunrise_1k_HDR.jpg\"\n",
       "    ],\n",
       "    \"SkyboxImages\": [\n",
       "      \"https://modelviewer.dev/shared-assets/environments/spruit_sunrise_1k_HDR.jpg\"\n",
       "    ]\n",
       "  },\n",
       "  {\n",
       "    \"IsFavourite\": false,\n",
       "    \"Name\": \"Package\",\n",
       "    \"Thumbnail\": \"https://codefrydev.in/images/IconCodefrydev.svg\",\n",
       "    \"Description\": \"A Nerve Plant\",\n",
       "    \"Source\": \"https://raw.githubusercontent.com/abhijeetunreal/3DB/refs/heads/main/model/Package/model.glb\",\n",
       "    \"Poster\": \"poster.webp\",\n",
       "    \"AltText\": \"3D Model\",\n",
       "    \"IosSrc\": \"\",\n",
       "    \"AnimationNames\": [],\n",
       "    \"EnvironmentImages\": [\n",
       "      \"https://modelviewer.dev/shared-assets/environments/spruit_sunrise_1k_HDR.jpg\"\n",
       "    ],\n",
       "    \"SkyboxImages\": [\n",
       "      \"https://modelviewer.dev/shared-assets/environments/spruit_sunrise_1k_HDR.jpg\"\n",
       "    ]\n",
       "  },\n",
       "  {\n",
       "    \"IsFavourite\": false,\n",
       "    \"Name\": \"ConceptUnfinished\",\n",
       "    \"Thumbnail\": \"https://codefrydev.in/images/IconCodefrydev.svg\",\n",
       "    \"Description\": \"A Nerve Plant\",\n",
       "    \"Source\": \"https://raw.githubusercontent.com/abhijeetunreal/3DB/refs/heads/main/model/ConceptUnfinished/model.glb\",\n",
       "    \"Poster\": \"poster.webp\",\n",
       "    \"AltText\": \"3D Model\",\n",
       "    \"IosSrc\": \"\",\n",
       "    \"AnimationNames\": [],\n",
       "    \"EnvironmentImages\": [\n",
       "      \"https://modelviewer.dev/shared-assets/environments/spruit_sunrise_1k_HDR.jpg\"\n",
       "    ],\n",
       "    \"SkyboxImages\": [\n",
       "      \"https://modelviewer.dev/shared-assets/environments/spruit_sunrise_1k_HDR.jpg\"\n",
       "    ]\n",
       "  },\n",
       "  {\n",
       "    \"IsFavourite\": false,\n",
       "    \"Name\": \"RobotConcept\",\n",
       "    \"Thumbnail\": \"https://codefrydev.in/images/IconCodefrydev.svg\",\n",
       "    \"Description\": \"A Nerve Plant\",\n",
       "    \"Source\": \"https://raw.githubusercontent.com/abhijeetunreal/3DB/refs/heads/main/model/RobotConcept/model.glb\",\n",
       "    \"Poster\": \"poster.webp\",\n",
       "    \"AltText\": \"3D Model\",\n",
       "    \"IosSrc\": \"\",\n",
       "    \"AnimationNames\": [],\n",
       "    \"EnvironmentImages\": [\n",
       "      \"https://modelviewer.dev/shared-assets/environments/spruit_sunrise_1k_HDR.jpg\"\n",
       "    ],\n",
       "    \"SkyboxImages\": [\n",
       "      \"https://modelviewer.dev/shared-assets/environments/spruit_sunrise_1k_HDR.jpg\"\n",
       "    ]\n",
       "  }\n",
       "]"
      ]
     },
     "metadata": {},
     "output_type": "display_data"
    }
   ],
   "source": [
    "var text = JsonSerializer.Serialize(dataRequestModel, new JsonSerializerOptions\n",
    "{\n",
    "    WriteIndented = true\n",
    "});\n",
    "text"
   ]
  },
  {
   "cell_type": "code",
   "execution_count": 45,
   "metadata": {
    "polyglot_notebook": {
     "kernelName": "csharp"
    },
    "vscode": {
     "languageId": "polyglot-notebook"
    }
   },
   "outputs": [],
   "source": [
    "File.WriteAllText(\"index.json\", text);"
   ]
  }
 ],
 "metadata": {
  "kernelspec": {
   "display_name": ".NET (C#)",
   "language": "C#",
   "name": ".net-csharp"
  },
  "language_info": {
   "name": "python"
  },
  "polyglot_notebook": {
   "kernelInfo": {
    "defaultKernelName": "csharp",
    "items": [
     {
      "aliases": [],
      "name": "csharp"
     }
    ]
   }
  }
 },
 "nbformat": 4,
 "nbformat_minor": 5
}
