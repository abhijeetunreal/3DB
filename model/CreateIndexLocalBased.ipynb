{
 "cells": [
  {
   "cell_type": "code",
   "execution_count": 1,
   "id": "2e9d1306",
   "metadata": {
    "polyglot_notebook": {
     "kernelName": "csharp"
    },
    "vscode": {
     "languageId": "polyglot-notebook"
    }
   },
   "outputs": [],
   "source": [
    "using System;\n",
    "using System.Collections.Generic;\n",
    "using System.Net.Http;\n",
    "using System.Text.Json;\n",
    "using System.Threading.Tasks;\n",
    "using System.IO;"
   ]
  },
  {
   "cell_type": "code",
   "execution_count": null,
   "metadata": {
    "polyglot_notebook": {
     "kernelName": "csharp"
    },
    "vscode": {
     "languageId": "polyglot-notebook"
    }
   },
   "outputs": [],
   "source": [
    "//https://polyhaven.com/"
   ]
  },
  {
   "cell_type": "code",
   "execution_count": 2,
   "id": "2ce7ffe6",
   "metadata": {
    "polyglot_notebook": {
     "kernelName": "csharp"
    },
    "vscode": {
     "languageId": "polyglot-notebook"
    }
   },
   "outputs": [],
   "source": [
    "string parentPath = \"https://raw.githubusercontent.com/abhijeetunreal/3DB/refs/heads/main/model\";"
   ]
  },
  {
   "cell_type": "code",
   "execution_count": 3,
   "id": "e70b5ff5",
   "metadata": {
    "polyglot_notebook": {
     "kernelName": "csharp"
    },
    "vscode": {
     "languageId": "polyglot-notebook"
    }
   },
   "outputs": [],
   "source": [
    "public class DataRequestModel\n",
    "{\n",
    "    public bool IsFavourite { get; set; } = false;\n",
    "    public string Name { get; set; } = \"CFD Models\";\n",
    "    public string Thumbnail { get; set; } = \"https://codefrydev.in/images/IconCodefrydev.svg\";\n",
    "    public string Description { get; set; } = \"A Nerve Plant\";\n",
    "\n",
    "    public string Source { get; set; } = \"https://raw.githubusercontent.com/abhijeetunreal/3DB/refs/heads/main/model/nerveplant/nerveplant.glb\";\n",
    "\n",
    "    public string Poster { get; set; } = \"poster.webp\";\n",
    "    public string AltText { get; set; } = \"3D Model\";\n",
    "    public string IosSrc { get; set; } = \"\";\n",
    "\n",
    "    public List<string> AnimationNames { get; set; } =[];\n",
    "\n",
    "    public List<string> EnvironmentImages { get; set; } =[\"https://modelviewer.dev/shared-assets/environments/spruit_sunrise_1k_HDR.jpg\"];\n",
    "\n",
    "    public List<string> SkyboxImages { get; set; } =[\"https://modelviewer.dev/shared-assets/environments/spruit_sunrise_1k_HDR.jpg\"];\n",
    "}"
   ]
  },
  {
   "cell_type": "code",
   "execution_count": 4,
   "id": "c663294d",
   "metadata": {
    "polyglot_notebook": {
     "kernelName": "csharp"
    },
    "vscode": {
     "languageId": "polyglot-notebook"
    }
   },
   "outputs": [
    {
     "data": {
      "text/plain": [
       "/Volumes/External/SourceCode/3DB/model"
      ]
     },
     "metadata": {},
     "output_type": "display_data"
    }
   ],
   "source": [
    "var directory = Directory.GetCurrentDirectory();\n",
    "directory"
   ]
  },
  {
   "cell_type": "code",
   "execution_count": 6,
   "id": "166ed2e4",
   "metadata": {
    "polyglot_notebook": {
     "kernelName": "csharp"
    },
    "vscode": {
     "languageId": "polyglot-notebook"
    }
   },
   "outputs": [
    {
     "data": {
      "text/html": [
       "<div class=\"dni-plaintext\"><pre>[ /Volumes/External/SourceCode/3DB/model/Camera, /Volumes/External/SourceCode/3DB/model/ZombieMushroom, /Volumes/External/SourceCode/3DB/model/PortalGunFPS, /Volumes/External/SourceCode/3DB/model/Torch, /Volumes/External/SourceCode/3DB/model/3dripple, /Volumes/External/SourceCode/3DB/model/nerveplant, /Volumes/External/SourceCode/3DB/model/LinkConceptOne, /Volumes/External/SourceCode/3DB/model/tenticles, /Volumes/External/SourceCode/3DB/model/sphericalmaze, /Volumes/External/SourceCode/3DB/model/SpiderJhula, /Volumes/External/SourceCode/3DB/model/BostonDynamics, /Volumes/External/SourceCode/3DB/model/LHCcollider, /Volumes/External/SourceCode/3DB/model/OwlKid, /Volumes/External/SourceCode/3DB/model/ArtificialKidney, /Volumes/External/SourceCode/3DB/model/PortalGun, /Volumes/External/SourceCode/3DB/model/GlassHorrorbox, /Volumes/External/SourceCode/3DB/model/Package, /Volumes/External/SourceCode/3DB/model/ConceptUnfinished, /Volumes/External/SourceCode/3DB/model/RobotConcept ]</pre></div><style>\r\n",
       ".dni-code-hint {\r\n",
       "    font-style: italic;\r\n",
       "    overflow: hidden;\r\n",
       "    white-space: nowrap;\r\n",
       "}\r\n",
       ".dni-treeview {\r\n",
       "    white-space: nowrap;\r\n",
       "}\r\n",
       ".dni-treeview td {\r\n",
       "    vertical-align: top;\r\n",
       "    text-align: start;\r\n",
       "}\r\n",
       "details.dni-treeview {\r\n",
       "    padding-left: 1em;\r\n",
       "}\r\n",
       "table td {\r\n",
       "    text-align: start;\r\n",
       "}\r\n",
       "table tr { \r\n",
       "    vertical-align: top; \r\n",
       "    margin: 0em 0px;\r\n",
       "}\r\n",
       "table tr td pre \r\n",
       "{ \r\n",
       "    vertical-align: top !important; \r\n",
       "    margin: 0em 0px !important;\r\n",
       "} \r\n",
       "table th {\r\n",
       "    text-align: start;\r\n",
       "}\r\n",
       "</style>"
      ]
     },
     "metadata": {},
     "output_type": "display_data"
    }
   ],
   "source": [
    "var allChildDirectory = Directory.GetDirectories(directory);\n",
    "allChildDirectory"
   ]
  },
  {
   "cell_type": "code",
   "execution_count": 7,
   "id": "086f792b",
   "metadata": {
    "polyglot_notebook": {
     "kernelName": "csharp"
    },
    "vscode": {
     "languageId": "polyglot-notebook"
    }
   },
   "outputs": [],
   "source": [
    "var dataRequestModel = new List<DataRequestModel>();"
   ]
  },
  {
   "cell_type": "code",
   "execution_count": null,
   "id": "e4649333",
   "metadata": {
    "polyglot_notebook": {
     "kernelName": "csharp"
    },
    "vscode": {
     "languageId": "polyglot-notebook"
    }
   },
   "outputs": [
    {
     "data": {
      "text/html": [
       "<table><thead><tr><th><i>index</i></th><th>value</th></tr></thead><tbody><tr><td>0</td><td><details class=\"dni-treeview\"><summary><span class=\"dni-code-hint\"><code>Submission#3+DataRequestModel</code></span></summary><div><table><thead><tr></tr></thead><tbody><tr><td>IsFavourite</td><td><div class=\"dni-plaintext\"><pre>False</pre></div></td></tr><tr><td>Name</td><td><div class=\"dni-plaintext\"><pre>Camera</pre></div></td></tr><tr><td>Thumbnail</td><td><div class=\"dni-plaintext\"><pre>https://codefrydev.in/images/IconCodefrydev.svg</pre></div></td></tr><tr><td>Description</td><td><div class=\"dni-plaintext\"><pre>A Nerve Plant</pre></div></td></tr><tr><td>Source</td><td><div class=\"dni-plaintext\"><pre>https://raw.githubusercontent.com/abhijeetunreal/3DB/refs/heads/main/model/Camera/Camera.glb</pre></div></td></tr><tr><td>Poster</td><td><div class=\"dni-plaintext\"><pre>https://raw.githubusercontent.com/abhijeetunreal/3DB/refs/heads/main/model/Camera/Camera.webp</pre></div></td></tr><tr><td>AltText</td><td><div class=\"dni-plaintext\"><pre>Camera</pre></div></td></tr><tr><td>IosSrc</td><td><div class=\"dni-plaintext\"><pre></pre></div></td></tr><tr><td>AnimationNames</td><td><div class=\"dni-plaintext\"><pre>[ Idle ]</pre></div></td></tr><tr><td>EnvironmentImages</td><td><div class=\"dni-plaintext\"><pre>[ https://modelviewer.dev/shared-assets/environments/spruit_sunrise_1k_HDR.jpg ]</pre></div></td></tr><tr><td>SkyboxImages</td><td><div class=\"dni-plaintext\"><pre>[ https://modelviewer.dev/shared-assets/environments/spruit_sunrise_1k_HDR.jpg ]</pre></div></td></tr></tbody></table></div></details></td></tr><tr><td>1</td><td><details class=\"dni-treeview\"><summary><span class=\"dni-code-hint\"><code>Submission#3+DataRequestModel</code></span></summary><div><table><thead><tr></tr></thead><tbody><tr><td>IsFavourite</td><td><div class=\"dni-plaintext\"><pre>False</pre></div></td></tr><tr><td>Name</td><td><div class=\"dni-plaintext\"><pre>ZombieMushroom</pre></div></td></tr><tr><td>Thumbnail</td><td><div class=\"dni-plaintext\"><pre>https://codefrydev.in/images/IconCodefrydev.svg</pre></div></td></tr><tr><td>Description</td><td><div class=\"dni-plaintext\"><pre>A Nerve Plant</pre></div></td></tr><tr><td>Source</td><td><div class=\"dni-plaintext\"><pre>https://raw.githubusercontent.com/abhijeetunreal/3DB/refs/heads/main/model/ZombieMushroom/ZombieMushroom.glb</pre></div></td></tr><tr><td>Poster</td><td><div class=\"dni-plaintext\"><pre>https://raw.githubusercontent.com/abhijeetunreal/3DB/refs/heads/main/model/ZombieMushroom/ZombieMushroom.webp</pre></div></td></tr><tr><td>AltText</td><td><div class=\"dni-plaintext\"><pre>ZombieMushroom</pre></div></td></tr><tr><td>IosSrc</td><td><div class=\"dni-plaintext\"><pre></pre></div></td></tr><tr><td>AnimationNames</td><td><div class=\"dni-plaintext\"><pre>[ Idle ]</pre></div></td></tr><tr><td>EnvironmentImages</td><td><div class=\"dni-plaintext\"><pre>[ https://modelviewer.dev/shared-assets/environments/spruit_sunrise_1k_HDR.jpg ]</pre></div></td></tr><tr><td>SkyboxImages</td><td><div class=\"dni-plaintext\"><pre>[ https://modelviewer.dev/shared-assets/environments/spruit_sunrise_1k_HDR.jpg ]</pre></div></td></tr></tbody></table></div></details></td></tr><tr><td>2</td><td><details class=\"dni-treeview\"><summary><span class=\"dni-code-hint\"><code>Submission#3+DataRequestModel</code></span></summary><div><table><thead><tr></tr></thead><tbody><tr><td>IsFavourite</td><td><div class=\"dni-plaintext\"><pre>False</pre></div></td></tr><tr><td>Name</td><td><div class=\"dni-plaintext\"><pre>PortalGunFPS</pre></div></td></tr><tr><td>Thumbnail</td><td><div class=\"dni-plaintext\"><pre>https://codefrydev.in/images/IconCodefrydev.svg</pre></div></td></tr><tr><td>Description</td><td><div class=\"dni-plaintext\"><pre>A Nerve Plant</pre></div></td></tr><tr><td>Source</td><td><div class=\"dni-plaintext\"><pre>https://raw.githubusercontent.com/abhijeetunreal/3DB/refs/heads/main/model/PortalGunFPS/PortalGunFPS.glb</pre></div></td></tr><tr><td>Poster</td><td><div class=\"dni-plaintext\"><pre>https://raw.githubusercontent.com/abhijeetunreal/3DB/refs/heads/main/model/PortalGunFPS/PortalGunFPS.webp</pre></div></td></tr><tr><td>AltText</td><td><div class=\"dni-plaintext\"><pre>PortalGunFPS</pre></div></td></tr><tr><td>IosSrc</td><td><div class=\"dni-plaintext\"><pre></pre></div></td></tr><tr><td>AnimationNames</td><td><div class=\"dni-plaintext\"><pre>[ Idle ]</pre></div></td></tr><tr><td>EnvironmentImages</td><td><div class=\"dni-plaintext\"><pre>[ https://modelviewer.dev/shared-assets/environments/spruit_sunrise_1k_HDR.jpg ]</pre></div></td></tr><tr><td>SkyboxImages</td><td><div class=\"dni-plaintext\"><pre>[ https://modelviewer.dev/shared-assets/environments/spruit_sunrise_1k_HDR.jpg ]</pre></div></td></tr></tbody></table></div></details></td></tr><tr><td>3</td><td><details class=\"dni-treeview\"><summary><span class=\"dni-code-hint\"><code>Submission#3+DataRequestModel</code></span></summary><div><table><thead><tr></tr></thead><tbody><tr><td>IsFavourite</td><td><div class=\"dni-plaintext\"><pre>False</pre></div></td></tr><tr><td>Name</td><td><div class=\"dni-plaintext\"><pre>Torch</pre></div></td></tr><tr><td>Thumbnail</td><td><div class=\"dni-plaintext\"><pre>https://codefrydev.in/images/IconCodefrydev.svg</pre></div></td></tr><tr><td>Description</td><td><div class=\"dni-plaintext\"><pre>A Nerve Plant</pre></div></td></tr><tr><td>Source</td><td><div class=\"dni-plaintext\"><pre>https://raw.githubusercontent.com/abhijeetunreal/3DB/refs/heads/main/model/Torch/Torch.glb</pre></div></td></tr><tr><td>Poster</td><td><div class=\"dni-plaintext\"><pre>https://raw.githubusercontent.com/abhijeetunreal/3DB/refs/heads/main/model/Torch/Torch.webp</pre></div></td></tr><tr><td>AltText</td><td><div class=\"dni-plaintext\"><pre>Torch</pre></div></td></tr><tr><td>IosSrc</td><td><div class=\"dni-plaintext\"><pre></pre></div></td></tr><tr><td>AnimationNames</td><td><div class=\"dni-plaintext\"><pre>[ Idle ]</pre></div></td></tr><tr><td>EnvironmentImages</td><td><div class=\"dni-plaintext\"><pre>[ https://modelviewer.dev/shared-assets/environments/spruit_sunrise_1k_HDR.jpg ]</pre></div></td></tr><tr><td>SkyboxImages</td><td><div class=\"dni-plaintext\"><pre>[ https://modelviewer.dev/shared-assets/environments/spruit_sunrise_1k_HDR.jpg ]</pre></div></td></tr></tbody></table></div></details></td></tr><tr><td>4</td><td><details class=\"dni-treeview\"><summary><span class=\"dni-code-hint\"><code>Submission#3+DataRequestModel</code></span></summary><div><table><thead><tr></tr></thead><tbody><tr><td>IsFavourite</td><td><div class=\"dni-plaintext\"><pre>False</pre></div></td></tr><tr><td>Name</td><td><div class=\"dni-plaintext\"><pre>3dripple</pre></div></td></tr><tr><td>Thumbnail</td><td><div class=\"dni-plaintext\"><pre>https://codefrydev.in/images/IconCodefrydev.svg</pre></div></td></tr><tr><td>Description</td><td><div class=\"dni-plaintext\"><pre>A Nerve Plant</pre></div></td></tr><tr><td>Source</td><td><div class=\"dni-plaintext\"><pre>https://raw.githubusercontent.com/abhijeetunreal/3DB/refs/heads/main/model/3dripple/3dripple.glb</pre></div></td></tr><tr><td>Poster</td><td><div class=\"dni-plaintext\"><pre>https://raw.githubusercontent.com/abhijeetunreal/3DB/refs/heads/main/model/3dripple/3dripple.webp</pre></div></td></tr><tr><td>AltText</td><td><div class=\"dni-plaintext\"><pre>3dripple</pre></div></td></tr><tr><td>IosSrc</td><td><div class=\"dni-plaintext\"><pre></pre></div></td></tr><tr><td>AnimationNames</td><td><div class=\"dni-plaintext\"><pre>[ Idle ]</pre></div></td></tr><tr><td>EnvironmentImages</td><td><div class=\"dni-plaintext\"><pre>[ https://modelviewer.dev/shared-assets/environments/spruit_sunrise_1k_HDR.jpg ]</pre></div></td></tr><tr><td>SkyboxImages</td><td><div class=\"dni-plaintext\"><pre>[ https://modelviewer.dev/shared-assets/environments/spruit_sunrise_1k_HDR.jpg ]</pre></div></td></tr></tbody></table></div></details></td></tr><tr><td>5</td><td><details class=\"dni-treeview\"><summary><span class=\"dni-code-hint\"><code>Submission#3+DataRequestModel</code></span></summary><div><table><thead><tr></tr></thead><tbody><tr><td>IsFavourite</td><td><div class=\"dni-plaintext\"><pre>False</pre></div></td></tr><tr><td>Name</td><td><div class=\"dni-plaintext\"><pre>nerveplant</pre></div></td></tr><tr><td>Thumbnail</td><td><div class=\"dni-plaintext\"><pre>https://codefrydev.in/images/IconCodefrydev.svg</pre></div></td></tr><tr><td>Description</td><td><div class=\"dni-plaintext\"><pre>A Nerve Plant</pre></div></td></tr><tr><td>Source</td><td><div class=\"dni-plaintext\"><pre>https://raw.githubusercontent.com/abhijeetunreal/3DB/refs/heads/main/model/nerveplant/nerveplant.glb</pre></div></td></tr><tr><td>Poster</td><td><div class=\"dni-plaintext\"><pre>https://raw.githubusercontent.com/abhijeetunreal/3DB/refs/heads/main/model/nerveplant/nerveplant.webp</pre></div></td></tr><tr><td>AltText</td><td><div class=\"dni-plaintext\"><pre>nerveplant</pre></div></td></tr><tr><td>IosSrc</td><td><div class=\"dni-plaintext\"><pre></pre></div></td></tr><tr><td>AnimationNames</td><td><div class=\"dni-plaintext\"><pre>[ Idle ]</pre></div></td></tr><tr><td>EnvironmentImages</td><td><div class=\"dni-plaintext\"><pre>[ https://modelviewer.dev/shared-assets/environments/spruit_sunrise_1k_HDR.jpg ]</pre></div></td></tr><tr><td>SkyboxImages</td><td><div class=\"dni-plaintext\"><pre>[ https://modelviewer.dev/shared-assets/environments/spruit_sunrise_1k_HDR.jpg ]</pre></div></td></tr></tbody></table></div></details></td></tr><tr><td>6</td><td><details class=\"dni-treeview\"><summary><span class=\"dni-code-hint\"><code>Submission#3+DataRequestModel</code></span></summary><div><table><thead><tr></tr></thead><tbody><tr><td>IsFavourite</td><td><div class=\"dni-plaintext\"><pre>False</pre></div></td></tr><tr><td>Name</td><td><div class=\"dni-plaintext\"><pre>LinkConceptOne</pre></div></td></tr><tr><td>Thumbnail</td><td><div class=\"dni-plaintext\"><pre>https://codefrydev.in/images/IconCodefrydev.svg</pre></div></td></tr><tr><td>Description</td><td><div class=\"dni-plaintext\"><pre>A Nerve Plant</pre></div></td></tr><tr><td>Source</td><td><div class=\"dni-plaintext\"><pre>https://raw.githubusercontent.com/abhijeetunreal/3DB/refs/heads/main/model/LinkConceptOne/LinkConceptOne.glb</pre></div></td></tr><tr><td>Poster</td><td><div class=\"dni-plaintext\"><pre>https://raw.githubusercontent.com/abhijeetunreal/3DB/refs/heads/main/model/LinkConceptOne/LinkConceptOne.webp</pre></div></td></tr><tr><td>AltText</td><td><div class=\"dni-plaintext\"><pre>LinkConceptOne</pre></div></td></tr><tr><td>IosSrc</td><td><div class=\"dni-plaintext\"><pre></pre></div></td></tr><tr><td>AnimationNames</td><td><div class=\"dni-plaintext\"><pre>[ Idle ]</pre></div></td></tr><tr><td>EnvironmentImages</td><td><div class=\"dni-plaintext\"><pre>[ https://modelviewer.dev/shared-assets/environments/spruit_sunrise_1k_HDR.jpg ]</pre></div></td></tr><tr><td>SkyboxImages</td><td><div class=\"dni-plaintext\"><pre>[ https://modelviewer.dev/shared-assets/environments/spruit_sunrise_1k_HDR.jpg ]</pre></div></td></tr></tbody></table></div></details></td></tr><tr><td>7</td><td><details class=\"dni-treeview\"><summary><span class=\"dni-code-hint\"><code>Submission#3+DataRequestModel</code></span></summary><div><table><thead><tr></tr></thead><tbody><tr><td>IsFavourite</td><td><div class=\"dni-plaintext\"><pre>False</pre></div></td></tr><tr><td>Name</td><td><div class=\"dni-plaintext\"><pre>tenticles</pre></div></td></tr><tr><td>Thumbnail</td><td><div class=\"dni-plaintext\"><pre>https://codefrydev.in/images/IconCodefrydev.svg</pre></div></td></tr><tr><td>Description</td><td><div class=\"dni-plaintext\"><pre>A Nerve Plant</pre></div></td></tr><tr><td>Source</td><td><div class=\"dni-plaintext\"><pre>https://raw.githubusercontent.com/abhijeetunreal/3DB/refs/heads/main/model/tenticles/tenticles.glb</pre></div></td></tr><tr><td>Poster</td><td><div class=\"dni-plaintext\"><pre>https://raw.githubusercontent.com/abhijeetunreal/3DB/refs/heads/main/model/tenticles/tenticles.webp</pre></div></td></tr><tr><td>AltText</td><td><div class=\"dni-plaintext\"><pre>tenticles</pre></div></td></tr><tr><td>IosSrc</td><td><div class=\"dni-plaintext\"><pre></pre></div></td></tr><tr><td>AnimationNames</td><td><div class=\"dni-plaintext\"><pre>[ Idle ]</pre></div></td></tr><tr><td>EnvironmentImages</td><td><div class=\"dni-plaintext\"><pre>[ https://modelviewer.dev/shared-assets/environments/spruit_sunrise_1k_HDR.jpg ]</pre></div></td></tr><tr><td>SkyboxImages</td><td><div class=\"dni-plaintext\"><pre>[ https://modelviewer.dev/shared-assets/environments/spruit_sunrise_1k_HDR.jpg ]</pre></div></td></tr></tbody></table></div></details></td></tr><tr><td>8</td><td><details class=\"dni-treeview\"><summary><span class=\"dni-code-hint\"><code>Submission#3+DataRequestModel</code></span></summary><div><table><thead><tr></tr></thead><tbody><tr><td>IsFavourite</td><td><div class=\"dni-plaintext\"><pre>False</pre></div></td></tr><tr><td>Name</td><td><div class=\"dni-plaintext\"><pre>sphericalmaze</pre></div></td></tr><tr><td>Thumbnail</td><td><div class=\"dni-plaintext\"><pre>https://codefrydev.in/images/IconCodefrydev.svg</pre></div></td></tr><tr><td>Description</td><td><div class=\"dni-plaintext\"><pre>A Nerve Plant</pre></div></td></tr><tr><td>Source</td><td><div class=\"dni-plaintext\"><pre>https://raw.githubusercontent.com/abhijeetunreal/3DB/refs/heads/main/model/sphericalmaze/sphericalmaze.glb</pre></div></td></tr><tr><td>Poster</td><td><div class=\"dni-plaintext\"><pre>https://raw.githubusercontent.com/abhijeetunreal/3DB/refs/heads/main/model/sphericalmaze/sphericalmaze.webp</pre></div></td></tr><tr><td>AltText</td><td><div class=\"dni-plaintext\"><pre>sphericalmaze</pre></div></td></tr><tr><td>IosSrc</td><td><div class=\"dni-plaintext\"><pre></pre></div></td></tr><tr><td>AnimationNames</td><td><div class=\"dni-plaintext\"><pre>[ Idle ]</pre></div></td></tr><tr><td>EnvironmentImages</td><td><div class=\"dni-plaintext\"><pre>[ https://modelviewer.dev/shared-assets/environments/spruit_sunrise_1k_HDR.jpg ]</pre></div></td></tr><tr><td>SkyboxImages</td><td><div class=\"dni-plaintext\"><pre>[ https://modelviewer.dev/shared-assets/environments/spruit_sunrise_1k_HDR.jpg ]</pre></div></td></tr></tbody></table></div></details></td></tr><tr><td>9</td><td><details class=\"dni-treeview\"><summary><span class=\"dni-code-hint\"><code>Submission#3+DataRequestModel</code></span></summary><div><table><thead><tr></tr></thead><tbody><tr><td>IsFavourite</td><td><div class=\"dni-plaintext\"><pre>False</pre></div></td></tr><tr><td>Name</td><td><div class=\"dni-plaintext\"><pre>SpiderJhula</pre></div></td></tr><tr><td>Thumbnail</td><td><div class=\"dni-plaintext\"><pre>https://codefrydev.in/images/IconCodefrydev.svg</pre></div></td></tr><tr><td>Description</td><td><div class=\"dni-plaintext\"><pre>A Nerve Plant</pre></div></td></tr><tr><td>Source</td><td><div class=\"dni-plaintext\"><pre>https://raw.githubusercontent.com/abhijeetunreal/3DB/refs/heads/main/model/SpiderJhula/SpiderJhula.glb</pre></div></td></tr><tr><td>Poster</td><td><div class=\"dni-plaintext\"><pre>https://raw.githubusercontent.com/abhijeetunreal/3DB/refs/heads/main/model/SpiderJhula/SpiderJhula.webp</pre></div></td></tr><tr><td>AltText</td><td><div class=\"dni-plaintext\"><pre>SpiderJhula</pre></div></td></tr><tr><td>IosSrc</td><td><div class=\"dni-plaintext\"><pre></pre></div></td></tr><tr><td>AnimationNames</td><td><div class=\"dni-plaintext\"><pre>[ Idle ]</pre></div></td></tr><tr><td>EnvironmentImages</td><td><div class=\"dni-plaintext\"><pre>[ https://modelviewer.dev/shared-assets/environments/spruit_sunrise_1k_HDR.jpg ]</pre></div></td></tr><tr><td>SkyboxImages</td><td><div class=\"dni-plaintext\"><pre>[ https://modelviewer.dev/shared-assets/environments/spruit_sunrise_1k_HDR.jpg ]</pre></div></td></tr></tbody></table></div></details></td></tr><tr><td>10</td><td><details class=\"dni-treeview\"><summary><span class=\"dni-code-hint\"><code>Submission#3+DataRequestModel</code></span></summary><div><table><thead><tr></tr></thead><tbody><tr><td>IsFavourite</td><td><div class=\"dni-plaintext\"><pre>False</pre></div></td></tr><tr><td>Name</td><td><div class=\"dni-plaintext\"><pre>BostonDynamics</pre></div></td></tr><tr><td>Thumbnail</td><td><div class=\"dni-plaintext\"><pre>https://codefrydev.in/images/IconCodefrydev.svg</pre></div></td></tr><tr><td>Description</td><td><div class=\"dni-plaintext\"><pre>A Nerve Plant</pre></div></td></tr><tr><td>Source</td><td><div class=\"dni-plaintext\"><pre>https://raw.githubusercontent.com/abhijeetunreal/3DB/refs/heads/main/model/BostonDynamics/BostonDynamics.glb</pre></div></td></tr><tr><td>Poster</td><td><div class=\"dni-plaintext\"><pre>https://raw.githubusercontent.com/abhijeetunreal/3DB/refs/heads/main/model/BostonDynamics/BostonDynamics.webp</pre></div></td></tr><tr><td>AltText</td><td><div class=\"dni-plaintext\"><pre>BostonDynamics</pre></div></td></tr><tr><td>IosSrc</td><td><div class=\"dni-plaintext\"><pre></pre></div></td></tr><tr><td>AnimationNames</td><td><div class=\"dni-plaintext\"><pre>[ Idle ]</pre></div></td></tr><tr><td>EnvironmentImages</td><td><div class=\"dni-plaintext\"><pre>[ https://modelviewer.dev/shared-assets/environments/spruit_sunrise_1k_HDR.jpg ]</pre></div></td></tr><tr><td>SkyboxImages</td><td><div class=\"dni-plaintext\"><pre>[ https://modelviewer.dev/shared-assets/environments/spruit_sunrise_1k_HDR.jpg ]</pre></div></td></tr></tbody></table></div></details></td></tr><tr><td>11</td><td><details class=\"dni-treeview\"><summary><span class=\"dni-code-hint\"><code>Submission#3+DataRequestModel</code></span></summary><div><table><thead><tr></tr></thead><tbody><tr><td>IsFavourite</td><td><div class=\"dni-plaintext\"><pre>False</pre></div></td></tr><tr><td>Name</td><td><div class=\"dni-plaintext\"><pre>LHCcollider</pre></div></td></tr><tr><td>Thumbnail</td><td><div class=\"dni-plaintext\"><pre>https://codefrydev.in/images/IconCodefrydev.svg</pre></div></td></tr><tr><td>Description</td><td><div class=\"dni-plaintext\"><pre>A Nerve Plant</pre></div></td></tr><tr><td>Source</td><td><div class=\"dni-plaintext\"><pre>https://raw.githubusercontent.com/abhijeetunreal/3DB/refs/heads/main/model/LHCcollider/LHCcollider.glb</pre></div></td></tr><tr><td>Poster</td><td><div class=\"dni-plaintext\"><pre>https://raw.githubusercontent.com/abhijeetunreal/3DB/refs/heads/main/model/LHCcollider/LHCcollider.webp</pre></div></td></tr><tr><td>AltText</td><td><div class=\"dni-plaintext\"><pre>LHCcollider</pre></div></td></tr><tr><td>IosSrc</td><td><div class=\"dni-plaintext\"><pre></pre></div></td></tr><tr><td>AnimationNames</td><td><div class=\"dni-plaintext\"><pre>[ Idle ]</pre></div></td></tr><tr><td>EnvironmentImages</td><td><div class=\"dni-plaintext\"><pre>[ https://modelviewer.dev/shared-assets/environments/spruit_sunrise_1k_HDR.jpg ]</pre></div></td></tr><tr><td>SkyboxImages</td><td><div class=\"dni-plaintext\"><pre>[ https://modelviewer.dev/shared-assets/environments/spruit_sunrise_1k_HDR.jpg ]</pre></div></td></tr></tbody></table></div></details></td></tr><tr><td>12</td><td><details class=\"dni-treeview\"><summary><span class=\"dni-code-hint\"><code>Submission#3+DataRequestModel</code></span></summary><div><table><thead><tr></tr></thead><tbody><tr><td>IsFavourite</td><td><div class=\"dni-plaintext\"><pre>False</pre></div></td></tr><tr><td>Name</td><td><div class=\"dni-plaintext\"><pre>OwlKid</pre></div></td></tr><tr><td>Thumbnail</td><td><div class=\"dni-plaintext\"><pre>https://codefrydev.in/images/IconCodefrydev.svg</pre></div></td></tr><tr><td>Description</td><td><div class=\"dni-plaintext\"><pre>A Nerve Plant</pre></div></td></tr><tr><td>Source</td><td><div class=\"dni-plaintext\"><pre>https://raw.githubusercontent.com/abhijeetunreal/3DB/refs/heads/main/model/OwlKid/OwlKid.glb</pre></div></td></tr><tr><td>Poster</td><td><div class=\"dni-plaintext\"><pre>https://raw.githubusercontent.com/abhijeetunreal/3DB/refs/heads/main/model/OwlKid/OwlKid.webp</pre></div></td></tr><tr><td>AltText</td><td><div class=\"dni-plaintext\"><pre>OwlKid</pre></div></td></tr><tr><td>IosSrc</td><td><div class=\"dni-plaintext\"><pre></pre></div></td></tr><tr><td>AnimationNames</td><td><div class=\"dni-plaintext\"><pre>[ Idle ]</pre></div></td></tr><tr><td>EnvironmentImages</td><td><div class=\"dni-plaintext\"><pre>[ https://modelviewer.dev/shared-assets/environments/spruit_sunrise_1k_HDR.jpg ]</pre></div></td></tr><tr><td>SkyboxImages</td><td><div class=\"dni-plaintext\"><pre>[ https://modelviewer.dev/shared-assets/environments/spruit_sunrise_1k_HDR.jpg ]</pre></div></td></tr></tbody></table></div></details></td></tr><tr><td>13</td><td><details class=\"dni-treeview\"><summary><span class=\"dni-code-hint\"><code>Submission#3+DataRequestModel</code></span></summary><div><table><thead><tr></tr></thead><tbody><tr><td>IsFavourite</td><td><div class=\"dni-plaintext\"><pre>False</pre></div></td></tr><tr><td>Name</td><td><div class=\"dni-plaintext\"><pre>ArtificialKidney</pre></div></td></tr><tr><td>Thumbnail</td><td><div class=\"dni-plaintext\"><pre>https://codefrydev.in/images/IconCodefrydev.svg</pre></div></td></tr><tr><td>Description</td><td><div class=\"dni-plaintext\"><pre>A Nerve Plant</pre></div></td></tr><tr><td>Source</td><td><div class=\"dni-plaintext\"><pre>https://raw.githubusercontent.com/abhijeetunreal/3DB/refs/heads/main/model/ArtificialKidney/ArtificialKidney.glb</pre></div></td></tr><tr><td>Poster</td><td><div class=\"dni-plaintext\"><pre>https://raw.githubusercontent.com/abhijeetunreal/3DB/refs/heads/main/model/ArtificialKidney/ArtificialKidney.webp</pre></div></td></tr><tr><td>AltText</td><td><div class=\"dni-plaintext\"><pre>ArtificialKidney</pre></div></td></tr><tr><td>IosSrc</td><td><div class=\"dni-plaintext\"><pre></pre></div></td></tr><tr><td>AnimationNames</td><td><div class=\"dni-plaintext\"><pre>[ Idle ]</pre></div></td></tr><tr><td>EnvironmentImages</td><td><div class=\"dni-plaintext\"><pre>[ https://modelviewer.dev/shared-assets/environments/spruit_sunrise_1k_HDR.jpg ]</pre></div></td></tr><tr><td>SkyboxImages</td><td><div class=\"dni-plaintext\"><pre>[ https://modelviewer.dev/shared-assets/environments/spruit_sunrise_1k_HDR.jpg ]</pre></div></td></tr></tbody></table></div></details></td></tr><tr><td>14</td><td><details class=\"dni-treeview\"><summary><span class=\"dni-code-hint\"><code>Submission#3+DataRequestModel</code></span></summary><div><table><thead><tr></tr></thead><tbody><tr><td>IsFavourite</td><td><div class=\"dni-plaintext\"><pre>False</pre></div></td></tr><tr><td>Name</td><td><div class=\"dni-plaintext\"><pre>PortalGun</pre></div></td></tr><tr><td>Thumbnail</td><td><div class=\"dni-plaintext\"><pre>https://codefrydev.in/images/IconCodefrydev.svg</pre></div></td></tr><tr><td>Description</td><td><div class=\"dni-plaintext\"><pre>A Nerve Plant</pre></div></td></tr><tr><td>Source</td><td><div class=\"dni-plaintext\"><pre>https://raw.githubusercontent.com/abhijeetunreal/3DB/refs/heads/main/model/PortalGun/PortalGun.glb</pre></div></td></tr><tr><td>Poster</td><td><div class=\"dni-plaintext\"><pre>https://raw.githubusercontent.com/abhijeetunreal/3DB/refs/heads/main/model/PortalGun/PortalGun.webp</pre></div></td></tr><tr><td>AltText</td><td><div class=\"dni-plaintext\"><pre>PortalGun</pre></div></td></tr><tr><td>IosSrc</td><td><div class=\"dni-plaintext\"><pre></pre></div></td></tr><tr><td>AnimationNames</td><td><div class=\"dni-plaintext\"><pre>[ Idle ]</pre></div></td></tr><tr><td>EnvironmentImages</td><td><div class=\"dni-plaintext\"><pre>[ https://modelviewer.dev/shared-assets/environments/spruit_sunrise_1k_HDR.jpg ]</pre></div></td></tr><tr><td>SkyboxImages</td><td><div class=\"dni-plaintext\"><pre>[ https://modelviewer.dev/shared-assets/environments/spruit_sunrise_1k_HDR.jpg ]</pre></div></td></tr></tbody></table></div></details></td></tr><tr><td>15</td><td><details class=\"dni-treeview\"><summary><span class=\"dni-code-hint\"><code>Submission#3+DataRequestModel</code></span></summary><div><table><thead><tr></tr></thead><tbody><tr><td>IsFavourite</td><td><div class=\"dni-plaintext\"><pre>False</pre></div></td></tr><tr><td>Name</td><td><div class=\"dni-plaintext\"><pre>GlassHorrorbox</pre></div></td></tr><tr><td>Thumbnail</td><td><div class=\"dni-plaintext\"><pre>https://codefrydev.in/images/IconCodefrydev.svg</pre></div></td></tr><tr><td>Description</td><td><div class=\"dni-plaintext\"><pre>A Nerve Plant</pre></div></td></tr><tr><td>Source</td><td><div class=\"dni-plaintext\"><pre>https://raw.githubusercontent.com/abhijeetunreal/3DB/refs/heads/main/model/GlassHorrorbox/GlassHorrorbox.glb</pre></div></td></tr><tr><td>Poster</td><td><div class=\"dni-plaintext\"><pre>https://raw.githubusercontent.com/abhijeetunreal/3DB/refs/heads/main/model/GlassHorrorbox/GlassHorrorbox.webp</pre></div></td></tr><tr><td>AltText</td><td><div class=\"dni-plaintext\"><pre>GlassHorrorbox</pre></div></td></tr><tr><td>IosSrc</td><td><div class=\"dni-plaintext\"><pre></pre></div></td></tr><tr><td>AnimationNames</td><td><div class=\"dni-plaintext\"><pre>[ Idle ]</pre></div></td></tr><tr><td>EnvironmentImages</td><td><div class=\"dni-plaintext\"><pre>[ https://modelviewer.dev/shared-assets/environments/spruit_sunrise_1k_HDR.jpg ]</pre></div></td></tr><tr><td>SkyboxImages</td><td><div class=\"dni-plaintext\"><pre>[ https://modelviewer.dev/shared-assets/environments/spruit_sunrise_1k_HDR.jpg ]</pre></div></td></tr></tbody></table></div></details></td></tr><tr><td>16</td><td><details class=\"dni-treeview\"><summary><span class=\"dni-code-hint\"><code>Submission#3+DataRequestModel</code></span></summary><div><table><thead><tr></tr></thead><tbody><tr><td>IsFavourite</td><td><div class=\"dni-plaintext\"><pre>False</pre></div></td></tr><tr><td>Name</td><td><div class=\"dni-plaintext\"><pre>Package</pre></div></td></tr><tr><td>Thumbnail</td><td><div class=\"dni-plaintext\"><pre>https://codefrydev.in/images/IconCodefrydev.svg</pre></div></td></tr><tr><td>Description</td><td><div class=\"dni-plaintext\"><pre>A Nerve Plant</pre></div></td></tr><tr><td>Source</td><td><div class=\"dni-plaintext\"><pre>https://raw.githubusercontent.com/abhijeetunreal/3DB/refs/heads/main/model/Package/Package.glb</pre></div></td></tr><tr><td>Poster</td><td><div class=\"dni-plaintext\"><pre>https://raw.githubusercontent.com/abhijeetunreal/3DB/refs/heads/main/model/Package/Package.webp</pre></div></td></tr><tr><td>AltText</td><td><div class=\"dni-plaintext\"><pre>Package</pre></div></td></tr><tr><td>IosSrc</td><td><div class=\"dni-plaintext\"><pre></pre></div></td></tr><tr><td>AnimationNames</td><td><div class=\"dni-plaintext\"><pre>[ Idle ]</pre></div></td></tr><tr><td>EnvironmentImages</td><td><div class=\"dni-plaintext\"><pre>[ https://modelviewer.dev/shared-assets/environments/spruit_sunrise_1k_HDR.jpg ]</pre></div></td></tr><tr><td>SkyboxImages</td><td><div class=\"dni-plaintext\"><pre>[ https://modelviewer.dev/shared-assets/environments/spruit_sunrise_1k_HDR.jpg ]</pre></div></td></tr></tbody></table></div></details></td></tr><tr><td>17</td><td><details class=\"dni-treeview\"><summary><span class=\"dni-code-hint\"><code>Submission#3+DataRequestModel</code></span></summary><div><table><thead><tr></tr></thead><tbody><tr><td>IsFavourite</td><td><div class=\"dni-plaintext\"><pre>False</pre></div></td></tr><tr><td>Name</td><td><div class=\"dni-plaintext\"><pre>ConceptUnfinished</pre></div></td></tr><tr><td>Thumbnail</td><td><div class=\"dni-plaintext\"><pre>https://codefrydev.in/images/IconCodefrydev.svg</pre></div></td></tr><tr><td>Description</td><td><div class=\"dni-plaintext\"><pre>A Nerve Plant</pre></div></td></tr><tr><td>Source</td><td><div class=\"dni-plaintext\"><pre>https://raw.githubusercontent.com/abhijeetunreal/3DB/refs/heads/main/model/ConceptUnfinished/ConceptUnfinished.glb</pre></div></td></tr><tr><td>Poster</td><td><div class=\"dni-plaintext\"><pre>https://raw.githubusercontent.com/abhijeetunreal/3DB/refs/heads/main/model/ConceptUnfinished/ConceptUnfinished.webp</pre></div></td></tr><tr><td>AltText</td><td><div class=\"dni-plaintext\"><pre>ConceptUnfinished</pre></div></td></tr><tr><td>IosSrc</td><td><div class=\"dni-plaintext\"><pre></pre></div></td></tr><tr><td>AnimationNames</td><td><div class=\"dni-plaintext\"><pre>[ Idle ]</pre></div></td></tr><tr><td>EnvironmentImages</td><td><div class=\"dni-plaintext\"><pre>[ https://modelviewer.dev/shared-assets/environments/spruit_sunrise_1k_HDR.jpg ]</pre></div></td></tr><tr><td>SkyboxImages</td><td><div class=\"dni-plaintext\"><pre>[ https://modelviewer.dev/shared-assets/environments/spruit_sunrise_1k_HDR.jpg ]</pre></div></td></tr></tbody></table></div></details></td></tr><tr><td>18</td><td><details class=\"dni-treeview\"><summary><span class=\"dni-code-hint\"><code>Submission#3+DataRequestModel</code></span></summary><div><table><thead><tr></tr></thead><tbody><tr><td>IsFavourite</td><td><div class=\"dni-plaintext\"><pre>False</pre></div></td></tr><tr><td>Name</td><td><div class=\"dni-plaintext\"><pre>RobotConcept</pre></div></td></tr><tr><td>Thumbnail</td><td><div class=\"dni-plaintext\"><pre>https://codefrydev.in/images/IconCodefrydev.svg</pre></div></td></tr><tr><td>Description</td><td><div class=\"dni-plaintext\"><pre>A Nerve Plant</pre></div></td></tr><tr><td>Source</td><td><div class=\"dni-plaintext\"><pre>https://raw.githubusercontent.com/abhijeetunreal/3DB/refs/heads/main/model/RobotConcept/RobotConcept.glb</pre></div></td></tr><tr><td>Poster</td><td><div class=\"dni-plaintext\"><pre>https://raw.githubusercontent.com/abhijeetunreal/3DB/refs/heads/main/model/RobotConcept/RobotConcept.webp</pre></div></td></tr><tr><td>AltText</td><td><div class=\"dni-plaintext\"><pre>RobotConcept</pre></div></td></tr><tr><td>IosSrc</td><td><div class=\"dni-plaintext\"><pre></pre></div></td></tr><tr><td>AnimationNames</td><td><div class=\"dni-plaintext\"><pre>[ Idle ]</pre></div></td></tr><tr><td>EnvironmentImages</td><td><div class=\"dni-plaintext\"><pre>[ https://modelviewer.dev/shared-assets/environments/spruit_sunrise_1k_HDR.jpg ]</pre></div></td></tr><tr><td>SkyboxImages</td><td><div class=\"dni-plaintext\"><pre>[ https://modelviewer.dev/shared-assets/environments/spruit_sunrise_1k_HDR.jpg ]</pre></div></td></tr></tbody></table></div></details></td></tr><tr><td>19</td><td><details class=\"dni-treeview\"><summary><span class=\"dni-code-hint\"><code>Submission#3+DataRequestModel</code></span></summary><div><table><thead><tr></tr></thead><tbody><tr><td>IsFavourite</td><td><div class=\"dni-plaintext\"><pre>False</pre></div></td></tr><tr><td>Name</td><td><div class=\"dni-plaintext\"><pre>Camera</pre></div></td></tr><tr><td>Thumbnail</td><td><div class=\"dni-plaintext\"><pre>https://codefrydev.in/images/IconCodefrydev.svg</pre></div></td></tr><tr><td>Description</td><td><div class=\"dni-plaintext\"><pre>A Nerve Plant</pre></div></td></tr><tr><td>Source</td><td><div class=\"dni-plaintext\"><pre>https://raw.githubusercontent.com/abhijeetunreal/3DB/refs/heads/main/model/Camera/Camera.glb</pre></div></td></tr><tr><td>Poster</td><td><div class=\"dni-plaintext\"><pre>https://raw.githubusercontent.com/abhijeetunreal/3DB/refs/heads/main/model/Camera/Camera.webp</pre></div></td></tr><tr><td>AltText</td><td><div class=\"dni-plaintext\"><pre>Camera</pre></div></td></tr><tr><td>IosSrc</td><td><div class=\"dni-plaintext\"><pre></pre></div></td></tr><tr><td>AnimationNames</td><td><div class=\"dni-plaintext\"><pre>[ Idle ]</pre></div></td></tr><tr><td>EnvironmentImages</td><td><div class=\"dni-plaintext\"><pre>[ https://modelviewer.dev/shared-assets/environments/spruit_sunrise_1k_HDR.jpg ]</pre></div></td></tr><tr><td>SkyboxImages</td><td><div class=\"dni-plaintext\"><pre>[ https://modelviewer.dev/shared-assets/environments/spruit_sunrise_1k_HDR.jpg ]</pre></div></td></tr></tbody></table></div></details></td></tr><tr><td colspan=\"2\"><i>(18 more)</i></td></tr></tbody></table><style>\r\n",
       ".dni-code-hint {\r\n",
       "    font-style: italic;\r\n",
       "    overflow: hidden;\r\n",
       "    white-space: nowrap;\r\n",
       "}\r\n",
       ".dni-treeview {\r\n",
       "    white-space: nowrap;\r\n",
       "}\r\n",
       ".dni-treeview td {\r\n",
       "    vertical-align: top;\r\n",
       "    text-align: start;\r\n",
       "}\r\n",
       "details.dni-treeview {\r\n",
       "    padding-left: 1em;\r\n",
       "}\r\n",
       "table td {\r\n",
       "    text-align: start;\r\n",
       "}\r\n",
       "table tr { \r\n",
       "    vertical-align: top; \r\n",
       "    margin: 0em 0px;\r\n",
       "}\r\n",
       "table tr td pre \r\n",
       "{ \r\n",
       "    vertical-align: top !important; \r\n",
       "    margin: 0em 0px !important;\r\n",
       "} \r\n",
       "table th {\r\n",
       "    text-align: start;\r\n",
       "}\r\n",
       "</style>"
      ]
     },
     "metadata": {},
     "output_type": "display_data"
    }
   ],
   "source": [
    "foreach (var childDir in allChildDirectory)\n",
    "{\n",
    "    var childDirName = childDir.Split(Path.DirectorySeparatorChar).Last();\n",
    "    var childDirPath = Path.Combine(directory, childDirName);\n",
    "    var allFiles = Directory.GetFiles(childDirPath);\n",
    "    \n",
    "    var glbFile = allFiles.Where(x => x.EndsWith(\".glb\")).FirstOrDefault();\n",
    "\n",
    "    var animationFile = allFiles.Where(x=>x.Contains(\"Animation\",StringComparison.OrdinalIgnoreCase)).FirstOrDefault();\n",
    "    var alt = allFiles.Where(x=>x.Contains(\"alt\",StringComparison.OrdinalIgnoreCase)).FirstOrDefault();\n",
    "     \n",
    "    var thumbnailFile = allFiles.Where(x => x.Contains(\"Thumbnail\")).FirstOrDefault(); \n",
    "    var description = allFiles.Where(x => x.Contains(\"description\")).FirstOrDefault();\n",
    "    var poster = allFiles.Where(x => x.Contains(\"poster\")).FirstOrDefault();    \n",
    "    var skybox = allFiles.Where(x => x.Contains(\"Skybox\")).ToList();\n",
    "    var enviroment = allFiles.Where(x => x.Contains(\"enviroment\")).ToList();\n",
    "\n",
    "    if (glbFile != null)\n",
    "    {\n",
    "        var dataRequestModelObj = new DataRequestModel\n",
    "        {\n",
    "            Name = childDirName,\n",
    "            Source = $\"{parentPath}/{childDirName}/{childDirName}.glb\",\n",
    "            Poster = $\"{parentPath}/{childDirName}/{childDirName}.webp\",\n",
    "            AltText = childDirName,\n",
    "            AnimationNames = new List<string> { \"Idle\" },\n",
    "            EnvironmentImages = new List<string> { \"https://modelviewer.dev/shared-assets/environments/spruit_sunrise_1k_HDR.jpg\" },\n",
    "            SkyboxImages = new List<string> { \"https://modelviewer.dev/shared-assets/environments/spruit_sunrise_1k_HDR.jpg\" }\n",
    "        };\n",
    "\n",
    "        if (animationFile != null)\n",
    "        {\n",
    "            var animationFileName = animationFile.Split(Path.DirectorySeparatorChar).Last();\n",
    "            var u = $\"{parentPath}/{childDirName}/{animationFileName}\";\n",
    "            var animationsName = File.ReadAllText(animationFile);\n",
    "            var animationName = animationsName.Split('\\n').Select(x=>x.Trim()).Where(x=>x.Length>0).ToList();\n",
    "            dataRequestModelObj.AnimationNames= animationName;\n",
    "        }\n",
    "\n",
    "\n",
    "        dataRequestModel.Add(dataRequestModelObj);\n",
    "    }\n",
    "}\n",
    "dataRequestModel"
   ]
  }
 ],
 "metadata": {
  "kernelspec": {
   "display_name": ".NET (C#)",
   "language": "C#",
   "name": ".net-csharp"
  },
  "language_info": {
   "name": "python"
  },
  "polyglot_notebook": {
   "kernelInfo": {
    "defaultKernelName": "csharp",
    "items": [
     {
      "aliases": [],
      "name": "csharp"
     }
    ]
   }
  }
 },
 "nbformat": 4,
 "nbformat_minor": 5
}
