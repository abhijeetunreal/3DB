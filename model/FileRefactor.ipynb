{
 "cells": [
  {
   "cell_type": "code",
   "execution_count": 5,
   "id": "56072ee7",
   "metadata": {
    "polyglot_notebook": {
     "kernelName": "csharp"
    },
    "vscode": {
     "languageId": "polyglot-notebook"
    }
   },
   "outputs": [],
   "source": [
    "using System;\n",
    "using System.Collections.Generic;\n",
    "using System.Net.Http;\n",
    "using System.Text.Json;\n",
    "using System.Threading.Tasks;\n",
    "using System.IO;"
   ]
  },
  {
   "cell_type": "code",
   "execution_count": 10,
   "metadata": {
    "polyglot_notebook": {
     "kernelName": "csharp"
    },
    "vscode": {
     "languageId": "polyglot-notebook"
    }
   },
   "outputs": [
    {
     "data": {
      "text/html": [
       "<div class=\"dni-plaintext\"><pre>[ /Volumes/External/SourceCode/3DB/model/Camera/model.glb, /Volumes/External/SourceCode/3DB/model/ZombieMushroom/model.glb, /Volumes/External/SourceCode/3DB/model/PortalGunFPS/model.glb, /Volumes/External/SourceCode/3DB/model/Torch/model.glb, /Volumes/External/SourceCode/3DB/model/3dripple/model.glb, /Volumes/External/SourceCode/3DB/model/nerveplant/model.glb, /Volumes/External/SourceCode/3DB/model/LinkConceptOne/model.glb, /Volumes/External/SourceCode/3DB/model/tenticles/model.glb, /Volumes/External/SourceCode/3DB/model/sphericalmaze/model.glb, /Volumes/External/SourceCode/3DB/model/SpiderJhula/model.glb, /Volumes/External/SourceCode/3DB/model/BostonDynamics/model.glb, /Volumes/External/SourceCode/3DB/model/LHCcollider/model.glb, /Volumes/External/SourceCode/3DB/model/OwlKid/model.glb, /Volumes/External/SourceCode/3DB/model/ArtificialKidney/model.glb, /Volumes/External/SourceCode/3DB/model/PortalGun/model.glb, /Volumes/External/SourceCode/3DB/model/GlassHorrorbox/model.glb, /Volumes/External/SourceCode/3DB/model/Package/model.glb, /Volumes/External/SourceCode/3DB/model/ConceptUnfinished/model.glb, /Volumes/External/SourceCode/3DB/model/RobotConcept/model.glb ]</pre></div><style>\r\n",
       ".dni-code-hint {\r\n",
       "    font-style: italic;\r\n",
       "    overflow: hidden;\r\n",
       "    white-space: nowrap;\r\n",
       "}\r\n",
       ".dni-treeview {\r\n",
       "    white-space: nowrap;\r\n",
       "}\r\n",
       ".dni-treeview td {\r\n",
       "    vertical-align: top;\r\n",
       "    text-align: start;\r\n",
       "}\r\n",
       "details.dni-treeview {\r\n",
       "    padding-left: 1em;\r\n",
       "}\r\n",
       "table td {\r\n",
       "    text-align: start;\r\n",
       "}\r\n",
       "table tr { \r\n",
       "    vertical-align: top; \r\n",
       "    margin: 0em 0px;\r\n",
       "}\r\n",
       "table tr td pre \r\n",
       "{ \r\n",
       "    vertical-align: top !important; \r\n",
       "    margin: 0em 0px !important;\r\n",
       "} \r\n",
       "table th {\r\n",
       "    text-align: start;\r\n",
       "}\r\n",
       "</style>"
      ]
     },
     "metadata": {},
     "output_type": "display_data"
    }
   ],
   "source": [
    "var allDir = Directory.GetCurrentDirectory();\n",
    "var allFiles = Directory.GetFiles(allDir, \"*.glb\", SearchOption.AllDirectories);\n",
    "allFiles"
   ]
  },
  {
   "cell_type": "code",
   "execution_count": 9,
   "metadata": {
    "polyglot_notebook": {
     "kernelName": "csharp"
    },
    "vscode": {
     "languageId": "polyglot-notebook"
    }
   },
   "outputs": [],
   "source": [
    "foreach (var file in allFiles)\n",
    "{\n",
    "    var newFilePath = Path.Combine(Path.GetDirectoryName(file), \"model.glb\");\n",
    "    if (!File.Exists(newFilePath))\n",
    "    {\n",
    "        File.Move(file, newFilePath);\n",
    "    }\n",
    "}"
   ]
  }
 ],
 "metadata": {
  "kernelspec": {
   "display_name": ".NET (C#)",
   "language": "C#",
   "name": ".net-csharp"
  },
  "language_info": {
   "name": "python"
  },
  "polyglot_notebook": {
   "kernelInfo": {
    "defaultKernelName": "csharp",
    "items": [
     {
      "aliases": [],
      "name": "csharp"
     }
    ]
   }
  }
 },
 "nbformat": 4,
 "nbformat_minor": 5
}
